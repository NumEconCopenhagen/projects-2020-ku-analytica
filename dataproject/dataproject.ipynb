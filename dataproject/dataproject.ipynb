{
 "cells": [
  {
   "cell_type": "markdown",
   "metadata": {},
   "source": [
    "# Financial econometric analysis "
   ]
  },
  {
   "cell_type": "markdown",
   "metadata": {},
   "source": [
    "# Introduction"
   ]
  },
  {
   "cell_type": "markdown",
   "metadata": {},
   "source": [
    "The goal of the project is to import a dataset containing financial information from different companies. The data will be cleaned with respect to solving missing values and applying econometric data manipulation. Afterwards we conduct an OLS regression analysis to find which variables significantly affects sales and how. \n",
    "The dataset contains the following variables: \n",
    "\n",
    "| Variable | Meaning |\n",
    "| --- | --- |\n",
    "| AP | Accounts payable |\n",
    "| AT | Assets |\n",
    "| BV | Book value |\n",
    "| COGS | Cost of goods sold |\n",
    "| EMP | The number of employees |\n",
    "| IBE | Income before extraordinary items |\n",
    "| OCF | Net operating activities reported in the cash flow statements |\n",
    "| PPE | Property plant and equipment |\n",
    "| REC | Recivables |\n",
    "| SALE | Revenue |\n",
    "| XOPR | Operating expenses |\n",
    "| MV | Market value |\n"
   ]
  },
  {
   "cell_type": "markdown",
   "metadata": {},
   "source": [
    "# Import packages"
   ]
  },
  {
   "cell_type": "code",
   "execution_count": 1,
   "metadata": {},
   "outputs": [],
   "source": [
    "import pandas as pd\n",
    "import statsmodels.formula.api as sm\n",
    "import numpy as np\n",
    "import seaborn as sns\n",
    "from scipy import stats\n",
    "import matplotlib.pyplot as plt\n",
    "import statsmodels.stats.outliers_influence as sm_influence\n",
    "from patsy import dmatrices\n",
    "import statsmodels.api as sm_non_formula"
   ]
  },
  {
   "cell_type": "markdown",
   "metadata": {
    "toc-hr-collapsed": true
   },
   "source": [
    "# Read data"
   ]
  },
  {
   "cell_type": "markdown",
   "metadata": {},
   "source": [
    "**Import data .CSV file**"
   ]
  },
  {
   "cell_type": "code",
   "execution_count": 2,
   "metadata": {},
   "outputs": [],
   "source": [
    "financials = pd.read_csv(\"/Users/williamdybdahl/Documents/Polit/Cand_3/Programming & Numerical Analysis/Financials.csv\")"
   ]
  },
  {
   "cell_type": "markdown",
   "metadata": {},
   "source": [
    "Print 20 first rows to get overview of data structure"
   ]
  },
  {
   "cell_type": "code",
   "execution_count": 3,
   "metadata": {},
   "outputs": [
    {
     "name": "stdout",
     "output_type": "stream",
     "text": [
      "    gvkey  datadate   tic        AP         AT        BV       COGS      EMP  \\\n",
      "0    1004  20130531   AIR   149.300   2136.900   918.600   1714.500    6.300   \n",
      "1    1004  20140531   AIR   171.100   2199.500   999.500   1581.400    5.800   \n",
      "2    1004  20150531   AIR   142.300   1515.000   845.100   1342.700    4.850   \n",
      "3    1004  20160531   AIR   163.400   1442.100   865.800   1354.900    4.700   \n",
      "4    1004  20170531   AIR   177.400   1504.100   914.200   1422.700    4.600   \n",
      "5    1045  20121231   AAL  1244.000  23510.000 -7987.000  20529.000   77.750   \n",
      "6    1045  20131231   AAL  1368.000  42278.000 -2731.000  19084.000  110.400   \n",
      "7    1045  20141231   AAL  1377.000  43771.000  2021.000  29511.000  113.300   \n",
      "8    1045  20151231   AAL  1563.000  48415.000  5635.000  25416.000  118.500   \n",
      "9    1045  20161231   AAL  1592.000  51274.000  3785.000  25695.000  122.300   \n",
      "10   1050  20121231  CECE    11.098     94.104    61.994     91.690    0.452   \n",
      "11   1050  20131231  CECE    23.108    348.536   170.406    134.576    0.783   \n",
      "12   1050  20141231  CECE    31.882    414.365   181.224    176.177    0.853   \n",
      "13   1050  20151231  CECE    62.199    598.819   239.153    254.922    1.174   \n",
      "14   1050  20161231  CECE    58.985    498.634   190.082    278.049    0.985   \n",
      "15   1062  20121130   ASA     0.148    468.013   466.493      4.095      NaN   \n",
      "16   1062  20121130   ASA     0.888    468.013       NaN        NaN      NaN   \n",
      "17   1062  20131130   ASA     1.181    252.142       NaN        NaN      NaN   \n",
      "18   1062  20131130   ASA     0.355    252.142   250.347      4.110      NaN   \n",
      "19   1062  20141130   ASA     0.948    223.333       NaN        NaN      NaN   \n",
      "\n",
      "         IBE       OCF        PPE       REC       SALE       XOPR          MV  \\\n",
      "0     55.000   162.900    780.900   315.400   2167.100   1921.900    790.0029   \n",
      "1     72.900   139.800    837.600   297.900   2035.000   1779.000    961.3080   \n",
      "2    -54.500   -43.000    693.500   231.100   1594.300   1510.600   1046.3954   \n",
      "3     40.500    32.100    731.200   242.700   1662.600   1525.700    842.5112   \n",
      "4     50.200    21.800    775.400   251.400   1767.600   1619.400   1200.3288   \n",
      "5  -1876.000  1279.000  24233.000  1124.000  24855.000  23421.000    266.5571   \n",
      "6  -1834.000   675.000  30392.000  1560.000  26712.000  23756.000   6591.9923   \n",
      "7   2882.000  3080.000  35343.000  1771.000  42650.000  36065.000  37405.5843   \n",
      "8   7610.000  6249.000  40654.000  1425.000  40990.000  32099.000  26452.7417   \n",
      "9   2676.000  6524.000  45353.000  1594.000  40180.000  32347.000  23685.5569   \n",
      "10    10.850    16.829     15.196    29.499    135.052    117.119    168.7421   \n",
      "11     6.557    24.181     33.974    44.364    197.317    171.674    413.2812   \n",
      "12    13.077    16.263     34.186    58.394    263.217    227.617    408.1892   \n",
      "13    -5.602    12.637     62.610    97.778    367.422    322.251    260.4902   \n",
      "14   -38.218    69.599     43.723    83.062    417.011    360.792    476.5599   \n",
      "15  -152.257       NaN      0.000     0.481      5.817      4.095         NaN   \n",
      "16    38.634       NaN      0.000       NaN     45.498        NaN         NaN   \n",
      "17    -7.336       NaN      0.000       NaN     -2.926        NaN         NaN   \n",
      "18  -212.673       NaN      0.000     0.194      4.481      4.110         NaN   \n",
      "19   -11.746       NaN      0.000       NaN     -7.048        NaN         NaN   \n",
      "\n",
      "    2_digit_sic  \n",
      "0            50  \n",
      "1            50  \n",
      "2            50  \n",
      "3            50  \n",
      "4            50  \n",
      "5            45  \n",
      "6            45  \n",
      "7            45  \n",
      "8            45  \n",
      "9            45  \n",
      "10           35  \n",
      "11           35  \n",
      "12           35  \n",
      "13           35  \n",
      "14           35  \n",
      "15           67  \n",
      "16           67  \n",
      "17           67  \n",
      "18           67  \n",
      "19           67  \n"
     ]
    }
   ],
   "source": [
    "print(financials.head(20))"
   ]
  },
  {
   "cell_type": "markdown",
   "metadata": {},
   "source": [
    "# Investigate and clean data"
   ]
  },
  {
   "cell_type": "markdown",
   "metadata": {},
   "source": [
    "Identify missing values/null values. Sum over both columns and rows (axis 0 and 1)"
   ]
  },
  {
   "cell_type": "code",
   "execution_count": 4,
   "metadata": {},
   "outputs": [
    {
     "name": "stdout",
     "output_type": "stream",
     "text": [
      "gvkey              0\n",
      "datadate           0\n",
      "tic               38\n",
      "AP             12693\n",
      "AT              9482\n",
      "BV             14858\n",
      "COGS           14531\n",
      "EMP            13105\n",
      "IBE             9607\n",
      "OCF            14702\n",
      "PPE            17100\n",
      "REC            14634\n",
      "SALE            9618\n",
      "XOPR           14536\n",
      "MV             17492\n",
      "2_digit_sic        0\n",
      "dtype: int64\n",
      "0     0\n",
      "1     0\n",
      "2     0\n",
      "3     0\n",
      "4     0\n",
      "5     0\n",
      "6     0\n",
      "7     0\n",
      "8     0\n",
      "9     0\n",
      "10    0\n",
      "11    0\n",
      "12    0\n",
      "13    0\n",
      "14    0\n",
      "15    3\n",
      "16    7\n",
      "17    7\n",
      "18    3\n",
      "19    7\n",
      "dtype: int64\n"
     ]
    }
   ],
   "source": [
    "print(financials.isnull().sum().head(20))\n",
    "print(financials.isnull().sum(axis=1).head(20))"
   ]
  },
  {
   "cell_type": "markdown",
   "metadata": {},
   "source": [
    "Create new column in dataframe containing sum of missing values, and sort financial data descending after new NumNulls column"
   ]
  },
  {
   "cell_type": "code",
   "execution_count": 5,
   "metadata": {},
   "outputs": [
    {
     "name": "stdout",
     "output_type": "stream",
     "text": [
      "        gvkey  datadate  tic  AP  AT  BV  COGS  EMP  IBE  OCF  PPE  REC  SALE  \\\n",
      "36540  177391  20141231  NaN NaN NaN NaN   NaN  NaN  NaN  NaN  NaN  NaN   NaN   \n",
      "35569  176324  20141231  NaN NaN NaN NaN   NaN  NaN  NaN  NaN  NaN  NaN   NaN   \n",
      "35567  176324  20121231  NaN NaN NaN NaN   NaN  NaN  NaN  NaN  NaN  NaN   NaN   \n",
      "37047  178034  20141231  NaN NaN NaN NaN   NaN  NaN  NaN  NaN  NaN  NaN   NaN   \n",
      "37045  178034  20121231  NaN NaN NaN NaN   NaN  NaN  NaN  NaN  NaN  NaN   NaN   \n",
      "36695  177503  20131231  NaN NaN NaN NaN   NaN  NaN  NaN  NaN  NaN  NaN   NaN   \n",
      "36696  177503  20141231  NaN NaN NaN NaN   NaN  NaN  NaN  NaN  NaN  NaN   NaN   \n",
      "35451  176211  20131231  NaN NaN NaN NaN   NaN  NaN  NaN  NaN  NaN  NaN   NaN   \n",
      "35452  176211  20141231  NaN NaN NaN NaN   NaN  NaN  NaN  NaN  NaN  NaN   NaN   \n",
      "35453  176212  20121231  NaN NaN NaN NaN   NaN  NaN  NaN  NaN  NaN  NaN   NaN   \n",
      "35454  176212  20131231  NaN NaN NaN NaN   NaN  NaN  NaN  NaN  NaN  NaN   NaN   \n",
      "35455  176212  20141231  NaN NaN NaN NaN   NaN  NaN  NaN  NaN  NaN  NaN   NaN   \n",
      "35456  176213  20121231  NaN NaN NaN NaN   NaN  NaN  NaN  NaN  NaN  NaN   NaN   \n",
      "35457  176213  20131231  NaN NaN NaN NaN   NaN  NaN  NaN  NaN  NaN  NaN   NaN   \n",
      "35458  176213  20141231  NaN NaN NaN NaN   NaN  NaN  NaN  NaN  NaN  NaN   NaN   \n",
      "38316  180017  20121231  NaN NaN NaN NaN   NaN  NaN  NaN  NaN  NaN  NaN   NaN   \n",
      "38317  180017  20131231  NaN NaN NaN NaN   NaN  NaN  NaN  NaN  NaN  NaN   NaN   \n",
      "38318  180017  20141231  NaN NaN NaN NaN   NaN  NaN  NaN  NaN  NaN  NaN   NaN   \n",
      "38319  180018  20121231  NaN NaN NaN NaN   NaN  NaN  NaN  NaN  NaN  NaN   NaN   \n",
      "38320  180018  20131231  NaN NaN NaN NaN   NaN  NaN  NaN  NaN  NaN  NaN   NaN   \n",
      "\n",
      "       XOPR  MV  2_digit_sic  NumNull  \n",
      "36540   NaN NaN           67       13  \n",
      "35569   NaN NaN           67       13  \n",
      "35567   NaN NaN           67       13  \n",
      "37047   NaN NaN           67       13  \n",
      "37045   NaN NaN           67       13  \n",
      "36695   NaN NaN           67       13  \n",
      "36696   NaN NaN           67       13  \n",
      "35451   NaN NaN           67       13  \n",
      "35452   NaN NaN           67       13  \n",
      "35453   NaN NaN           67       13  \n",
      "35454   NaN NaN           67       13  \n",
      "35455   NaN NaN           67       13  \n",
      "35456   NaN NaN           67       13  \n",
      "35457   NaN NaN           67       13  \n",
      "35458   NaN NaN           67       13  \n",
      "38316   NaN NaN           67       13  \n",
      "38317   NaN NaN           67       13  \n",
      "38318   NaN NaN           67       13  \n",
      "38319   NaN NaN           67       13  \n",
      "38320   NaN NaN           67       13  \n"
     ]
    }
   ],
   "source": [
    "financials['NumNull']=financials.isnull().sum(axis=1)\n",
    "financials = financials.sort_values('NumNull', ascending=False)\n",
    "print(financials.head(20))"
   ]
  },
  {
   "cell_type": "markdown",
   "metadata": {},
   "source": [
    "We drop IBE, OCF and PPE as they seem irrelevant and contain a significant number of missing values.\n",
    "Also drop all rows with more than 3 missing values. "
   ]
  },
  {
   "cell_type": "code",
   "execution_count": 6,
   "metadata": {},
   "outputs": [
    {
     "name": "stdout",
     "output_type": "stream",
     "text": [
      "        gvkey  datadate    tic        AP         AT        BV      COGS  \\\n",
      "25116  107629  20161231  3NODB  1218.840   1367.985   140.580     2.386   \n",
      "26420  119414  20170930   CFFN  5309.868   9192.916  1368.313   117.804   \n",
      "9975    18035  20161231   EXSR  1943.410   2179.401   189.172     0.249   \n",
      "8835    16957  20140930   HARL   502.251    791.353    63.162    11.041   \n",
      "9974    18035  20151231   EXSR  1838.977   2062.508   173.107    -1.429   \n",
      "9972    18035  20141231   EXSR  1668.399   1887.679   160.074     2.511   \n",
      "14820   23060  20161231   BHWB   572.366    665.728    49.550     4.521   \n",
      "26605  121073  20141231   AMBZ  1364.444   1535.538   118.891     2.430   \n",
      "26846  122954  20121231  9769B   118.488  17937.257  6136.828  5968.469   \n",
      "26607  121073  20151231   AMBZ  1524.136   1671.257   131.383     1.501   \n",
      "25114  107629  20151231  3NODB  1205.246   1352.286   136.524     3.219   \n",
      "9910    17987  20121231   ESBK   409.565    536.936    42.795     6.359   \n",
      "9135    17222  20121231   ADKT   890.203   1016.311   103.248     2.489   \n",
      "9143    17222  20161231   ADKT   990.951   1135.624   110.812     2.334   \n",
      "22621   63395  20141231   HLAN   556.157    649.682    60.709     4.106   \n",
      "22619   63395  20131231   HLAN   490.823    580.359    54.247     5.071   \n",
      "9142    17222  20151231   ADKT   971.627   1111.173   108.507     1.537   \n",
      "9139    17222  20141231   ADKT   900.977   1033.681   107.370     2.072   \n",
      "22617   63395  20121231   HLAN   487.045    578.617    55.725     7.640   \n",
      "9138    17222  20131231   ADKT   855.965    991.604   109.351     1.477   \n",
      "\n",
      "          EMP       REC      SALE      XOPR         MV  2_digit_sic  NumNull  \n",
      "25116     NaN   594.575    35.504    18.935   186.1241           60        3  \n",
      "26420     NaN  7195.071   335.382   172.055  1975.2096           60        3  \n",
      "9975      NaN  1388.683    94.398    41.210   214.2500           60        3  \n",
      "8835      NaN   504.691    32.030    20.249    62.1720           60        3  \n",
      "9974      NaN  1241.075    90.837    36.696   152.5460           60        3  \n",
      "9972      NaN  1184.298    87.061    39.070   143.9760           60        3  \n",
      "14820     NaN   407.331    35.508    19.442    52.5780           60        3  \n",
      "26605     NaN   645.861    45.778    20.174   165.1165           60        3  \n",
      "26846  11.668  2119.446  6456.782  5968.469        NaN           63        3  \n",
      "26607     NaN   692.875    48.763    21.576   193.9193           60        3  \n",
      "25114     NaN   553.834    33.876    18.870   160.5625           60        3  \n",
      "9910      NaN   374.368    27.035    15.205    52.9615           60        3  \n",
      "9135      NaN   495.351    50.326    27.674   107.5400           60        3  \n",
      "9143      NaN   723.591    51.210    29.365   122.9680           60        3  \n",
      "22621     NaN   498.585    28.804    15.107    62.1600           60        3  \n",
      "22619     NaN   422.967    28.533    15.843    54.2500           60        3  \n",
      "9142      NaN   630.673    47.754    28.173   122.3600           60        3  \n",
      "9139      NaN   614.020    45.979    27.100   129.5488           60        3  \n",
      "22617     NaN   395.598    29.386    17.928    49.3440           60        3  \n",
      "9138      NaN   558.696    46.525    26.480   121.6000           60        3  \n",
      "gvkey             0\n",
      "datadate          0\n",
      "tic               0\n",
      "AP               90\n",
      "AT                0\n",
      "BV               44\n",
      "COGS              0\n",
      "EMP            1371\n",
      "REC             157\n",
      "SALE              0\n",
      "XOPR              0\n",
      "MV             4873\n",
      "2_digit_sic       0\n",
      "NumNull           0\n",
      "dtype: int64\n"
     ]
    }
   ],
   "source": [
    "financials = financials.drop(['IBE', 'OCF', 'PPE'], axis=1)\n",
    "financials.dropna(thresh=13, inplace=True)\n",
    "financials.dropna(subset=['SALE'], inplace=True)\n",
    "print(financials.head(20))\n",
    "print(financials.isnull().sum())"
   ]
  },
  {
   "cell_type": "markdown",
   "metadata": {},
   "source": [
    "From tables above, we see that data is already more clean. Number of variables with significant number of missing values are lower. For variables AP, REC and BV we fill out missing values with total column means."
   ]
  },
  {
   "cell_type": "code",
   "execution_count": 7,
   "metadata": {},
   "outputs": [
    {
     "name": "stdout",
     "output_type": "stream",
     "text": [
      "gvkey             0\n",
      "datadate          0\n",
      "tic               0\n",
      "AP                0\n",
      "AT                0\n",
      "BV                0\n",
      "COGS              0\n",
      "EMP            1371\n",
      "REC               0\n",
      "SALE              0\n",
      "XOPR              0\n",
      "MV             4873\n",
      "2_digit_sic       0\n",
      "NumNull           0\n",
      "dtype: int64\n"
     ]
    }
   ],
   "source": [
    "financials.AP.fillna(financials.AP.mean(), inplace=True)\n",
    "financials.REC.fillna(financials.REC.mean(), inplace=True)\n",
    "financials.BV.fillna(financials.BV.mean(), inplace=True)\n",
    "\n",
    "print(financials.isnull().sum())"
   ]
  },
  {
   "cell_type": "markdown",
   "metadata": {},
   "source": [
    "At last we replace missing MV and EMP values with industry means (based on sic code)"
   ]
  },
  {
   "cell_type": "code",
   "execution_count": 8,
   "metadata": {},
   "outputs": [
    {
     "name": "stdout",
     "output_type": "stream",
     "text": [
      "gvkey          0\n",
      "datadate       0\n",
      "tic            0\n",
      "AP             0\n",
      "AT             0\n",
      "BV             0\n",
      "COGS           0\n",
      "EMP            0\n",
      "REC            0\n",
      "SALE           0\n",
      "XOPR           0\n",
      "MV             0\n",
      "2_digit_sic    0\n",
      "NumNull        0\n",
      "dtype: int64\n"
     ]
    }
   ],
   "source": [
    "financials.MV.fillna(financials.groupby('2_digit_sic')['MV'].transform(\"mean\"), inplace=True)\n",
    "financials.EMP.fillna(financials.groupby('2_digit_sic')['EMP'].transform(\"mean\"), inplace=True)\n",
    "print(financials.isnull().sum())"
   ]
  },
  {
   "cell_type": "markdown",
   "metadata": {},
   "source": [
    "We have now cleaned data such that **there are no missing values**. We print descriptive statistics to get an overview of each variable."
   ]
  },
  {
   "cell_type": "code",
   "execution_count": 9,
   "metadata": {},
   "outputs": [
    {
     "name": "stdout",
     "output_type": "stream",
     "text": [
      "               gvkey      datadate            AP            AT             BV  \\\n",
      "count   28679.000000  2.867900e+04  2.867900e+04  2.867900e+04   28679.000000   \n",
      "mean    82894.917501  2.014338e+07  4.553832e+03  1.625748e+04    2711.770446   \n",
      "std     76067.848835  1.416421e+04  5.376664e+04  1.216392e+05   12544.056063   \n",
      "min      1004.000000  2.012113e+07  0.000000e+00  0.000000e+00 -132599.000000   \n",
      "25%     17131.500000  2.013123e+07  2.183000e+00  6.380450e+01      17.040000   \n",
      "50%     60972.000000  2.014123e+07  2.729000e+01  6.296590e+02     179.086000   \n",
      "75%    162528.000000  2.015123e+07  2.822010e+02  3.632374e+03    1082.396000   \n",
      "max    318815.000000  2.017093e+07  1.709017e+06  3.287968e+06  284434.000000   \n",
      "\n",
      "                COGS           EMP           REC           SALE  \\\n",
      "count   28679.000000  28679.000000  2.867900e+04   28679.000000   \n",
      "mean     2854.858348     11.565645  5.344330e+03    4284.453183   \n",
      "std     14384.580698     47.652655  6.449719e+04   18677.014588   \n",
      "min     -8016.000000      0.000000  0.000000e+00   -3781.680000   \n",
      "25%         8.132000      0.077000  3.405500e+00      20.690500   \n",
      "50%       108.077000      0.811000  6.464600e+01     238.338000   \n",
      "75%      1002.083000      6.395768  4.602505e+02    1711.946500   \n",
      "max    435726.253000   2300.000000  3.102199e+06  483521.000000   \n",
      "\n",
      "                XOPR             MV   2_digit_sic       NumNull  \n",
      "count   28679.000000   28679.000000  28679.000000  28679.000000  \n",
      "mean     3449.638665    4703.911735     47.379476      0.381464  \n",
      "std     16068.159432   19417.192424     20.420319      0.573334  \n",
      "min     -8016.000000       0.000000      1.000000      0.000000  \n",
      "25%        22.621000      65.152700     29.000000      0.000000  \n",
      "50%       180.797000     646.285200     48.000000      0.000000  \n",
      "75%      1356.153500    3937.746200     63.000000      1.000000  \n",
      "max    452560.000000  615336.455900     99.000000      3.000000  \n"
     ]
    }
   ],
   "source": [
    "print(financials.describe())"
   ]
  },
  {
   "cell_type": "markdown",
   "metadata": {},
   "source": [
    "From the descriptive statistics we see that a lot of the variables contain negative values. For a number of variables this does not make any sense, thus we clean out negative values in XOPR, COGS, SALE, BV and EMP."
   ]
  },
  {
   "cell_type": "code",
   "execution_count": 10,
   "metadata": {},
   "outputs": [
    {
     "name": "stdout",
     "output_type": "stream",
     "text": [
      "               gvkey      datadate            AP            AT             BV  \\\n",
      "count   22717.000000  2.271700e+04  2.271700e+04  2.271700e+04   22717.000000   \n",
      "mean    79820.421843  2.014341e+07  5.718313e+03  1.904609e+04    3466.732796   \n",
      "std     75428.677692  1.422304e+04  6.035161e+04  1.243067e+05   13778.660310   \n",
      "min      1004.000000  2.012113e+07  0.000000e+00  2.000000e-03       0.002000   \n",
      "25%     15334.000000  2.013123e+07  5.950000e+00  1.830270e+02      66.202000   \n",
      "50%     31358.000000  2.014123e+07  5.820000e+01  1.016494e+03     329.258000   \n",
      "75%    158053.000000  2.015123e+07  4.432000e+02  4.996427e+03    1543.780000   \n",
      "max    318815.000000  2.017093e+07  1.709017e+06  2.692538e+06  284434.000000   \n",
      "\n",
      "                COGS           EMP           REC           SALE  \\\n",
      "count   22717.000000  22717.000000  2.271700e+04   22717.000000   \n",
      "mean     3468.468616     13.678329  5.634741e+03    5186.278388   \n",
      "std     16014.760246     52.222003  5.023828e+04   20696.732755   \n",
      "min         0.001000      0.001000  0.000000e+00       0.001000   \n",
      "25%        24.260000      0.214000  1.370700e+01      57.235000   \n",
      "50%       217.831000      1.435000  1.225000e+02     430.449000   \n",
      "75%      1413.600000      8.000930  6.350000e+02    2421.200000   \n",
      "max    435726.253000   2300.000000  1.291825e+06  483521.000000   \n",
      "\n",
      "                XOPR             MV   2_digit_sic       NumNull  \n",
      "count   22717.000000   22717.000000  22717.000000  22717.000000  \n",
      "mean     4196.117019    5564.665272     47.857992      0.396487  \n",
      "std     17885.546077   21557.866079     19.330680      0.590239  \n",
      "min         0.013000       0.003100      1.000000      0.000000  \n",
      "25%        50.200000     126.542800     34.000000      0.000000  \n",
      "50%       332.404000     994.816800     49.000000      0.000000  \n",
      "75%      1889.403000    4415.743200     62.000000      1.000000  \n",
      "max    452560.000000  615336.455900     99.000000      3.000000  \n"
     ]
    }
   ],
   "source": [
    "financials = financials[financials.XOPR > 0]\n",
    "financials = financials[financials.COGS > 0]\n",
    "financials = financials[financials.SALE > 0]\n",
    "financials = financials[financials.BV > 0]\n",
    "financials = financials[financials.EMP > 0]\n",
    "\n",
    "print(financials.describe())"
   ]
  },
  {
   "cell_type": "markdown",
   "metadata": {},
   "source": [
    "We have now cleaned data such that there are no negative values where those do not make sense. Since we are going to use the data for OLS regresionnal analysis, we are also interested in varibales with significant degree of skewness. To handle this for COGS, we normalize by dividing difference to mean with max difference. This yields values only between 0 and 1"
   ]
  },
  {
   "cell_type": "code",
   "execution_count": 11,
   "metadata": {},
   "outputs": [
    {
     "name": "stdout",
     "output_type": "stream",
     "text": [
      "               gvkey      datadate            AP            AT             BV  \\\n",
      "count   22717.000000  2.271700e+04  2.271700e+04  2.271700e+04   22717.000000   \n",
      "mean    79820.421843  2.014341e+07  5.718313e+03  1.904609e+04    3466.732796   \n",
      "std     75428.677692  1.422304e+04  6.035161e+04  1.243067e+05   13778.660310   \n",
      "min      1004.000000  2.012113e+07  0.000000e+00  2.000000e-03       0.002000   \n",
      "25%     15334.000000  2.013123e+07  5.950000e+00  1.830270e+02      66.202000   \n",
      "50%     31358.000000  2.014123e+07  5.820000e+01  1.016494e+03     329.258000   \n",
      "75%    158053.000000  2.015123e+07  4.432000e+02  4.996427e+03    1543.780000   \n",
      "max    318815.000000  2.017093e+07  1.709017e+06  2.692538e+06  284434.000000   \n",
      "\n",
      "               COGS           EMP           REC           SALE           XOPR  \\\n",
      "count  22717.000000  22717.000000  2.271700e+04   22717.000000   22717.000000   \n",
      "mean       0.007960     13.678329  5.634741e+03    5186.278388    4196.117019   \n",
      "std        0.036754     52.222003  5.023828e+04   20696.732755   17885.546077   \n",
      "min        0.000000      0.001000  0.000000e+00       0.001000       0.013000   \n",
      "25%        0.000056      0.214000  1.370700e+01      57.235000      50.200000   \n",
      "50%        0.000500      1.435000  1.225000e+02     430.449000     332.404000   \n",
      "75%        0.003244      8.000930  6.350000e+02    2421.200000    1889.403000   \n",
      "max        1.000000   2300.000000  1.291825e+06  483521.000000  452560.000000   \n",
      "\n",
      "                  MV   2_digit_sic       NumNull  \n",
      "count   22717.000000  22717.000000  22717.000000  \n",
      "mean     5564.665272     47.857992      0.396487  \n",
      "std     21557.866079     19.330680      0.590239  \n",
      "min         0.003100      1.000000      0.000000  \n",
      "25%       126.542800     34.000000      0.000000  \n",
      "50%       994.816800     49.000000      0.000000  \n",
      "75%      4415.743200     62.000000      1.000000  \n",
      "max    615336.455900     99.000000      3.000000  \n"
     ]
    }
   ],
   "source": [
    "financials.COGS = (financials.COGS - financials.COGS.min())/(financials.COGS.max() - financials.COGS.min())\n",
    "\n",
    "print(financials.describe())"
   ]
  },
  {
   "cell_type": "code",
   "execution_count": 12,
   "metadata": {},
   "outputs": [],
   "source": [
    "#financials['Binned_SALE']=pd.qcut(financials.SALE, 10, labels=False)\n",
    "#print(financials.describe())"
   ]
  },
  {
   "cell_type": "markdown",
   "metadata": {},
   "source": [
    "To make sure data is clean we print types and make sure everything is as expected. When printing types, we find that our datadate is an integer. We change this to the proper datetime type. "
   ]
  },
  {
   "cell_type": "code",
   "execution_count": 13,
   "metadata": {},
   "outputs": [
    {
     "name": "stdout",
     "output_type": "stream",
     "text": [
      "gvkey            int64\n",
      "datadate         int64\n",
      "tic             object\n",
      "AP             float64\n",
      "AT             float64\n",
      "BV             float64\n",
      "COGS           float64\n",
      "EMP            float64\n",
      "REC            float64\n",
      "SALE           float64\n",
      "XOPR           float64\n",
      "MV             float64\n",
      "2_digit_sic      int64\n",
      "NumNull          int64\n",
      "dtype: object\n",
      "gvkey                   int64\n",
      "datadate       datetime64[ns]\n",
      "tic                    object\n",
      "AP                    float64\n",
      "AT                    float64\n",
      "BV                    float64\n",
      "COGS                  float64\n",
      "EMP                   float64\n",
      "REC                   float64\n",
      "SALE                  float64\n",
      "XOPR                  float64\n",
      "MV                    float64\n",
      "2_digit_sic             int64\n",
      "NumNull                 int64\n",
      "dtype: object\n"
     ]
    }
   ],
   "source": [
    "print(financials.dtypes)\n",
    "financials.datadate = pd.to_datetime(financials.datadate, format='%Y%m%d')\n",
    "print(financials.dtypes)"
   ]
  },
  {
   "cell_type": "markdown",
   "metadata": {},
   "source": [
    "The last steps for cleaning data is creating a new Year valuable containing the year of the date. We then sort data according to gvkey and date. Data is now in order such that for each company, the date is ascending. "
   ]
  },
  {
   "cell_type": "code",
   "execution_count": 14,
   "metadata": {},
   "outputs": [
    {
     "name": "stdout",
     "output_type": "stream",
     "text": [
      "    gvkey   datadate   tic        AP         AT        BV      COGS  \\\n",
      "0    1004 2013-05-31   AIR   149.300   2136.900   918.600  0.003935   \n",
      "1    1004 2014-05-31   AIR   171.100   2199.500   999.500  0.003629   \n",
      "2    1004 2015-05-31   AIR   142.300   1515.000   845.100  0.003082   \n",
      "3    1004 2016-05-31   AIR   163.400   1442.100   865.800  0.003110   \n",
      "4    1004 2017-05-31   AIR   177.400   1504.100   914.200  0.003265   \n",
      "7    1045 2014-12-31   AAL  1377.000  43771.000  2021.000  0.067728   \n",
      "8    1045 2015-12-31   AAL  1563.000  48415.000  5635.000  0.058330   \n",
      "9    1045 2016-12-31   AAL  1592.000  51274.000  3785.000  0.058971   \n",
      "10   1050 2012-12-31  CECE    11.098     94.104    61.994  0.000210   \n",
      "11   1050 2013-12-31  CECE    23.108    348.536   170.406  0.000309   \n",
      "12   1050 2014-12-31  CECE    31.882    414.365   181.224  0.000404   \n",
      "13   1050 2015-12-31  CECE    62.199    598.819   239.153  0.000585   \n",
      "14   1050 2016-12-31  CECE    58.985    498.634   190.082  0.000638   \n",
      "24   1062 2016-11-30   ASA     0.412    245.020   243.229  0.000007   \n",
      "25   1072 2013-03-31   AVX   115.187   2601.995  1972.930  0.002533   \n",
      "26   1072 2014-03-31   AVX    94.634   2384.988  2047.685  0.002556   \n",
      "27   1072 2015-03-31   AVX    76.043   2459.015  2131.963  0.002255   \n",
      "28   1072 2016-03-31   AVX    78.168   2409.819  2177.106  0.001991   \n",
      "29   1072 2017-03-31   AVX    80.441   2477.413  2216.479  0.002181   \n",
      "30   1075 2012-12-31   PNW   221.312  13379.615  3972.806  0.004695   \n",
      "\n",
      "           EMP       REC       SALE       XOPR          MV  2_digit_sic  \\\n",
      "0     6.300000   315.400   2167.100   1921.900    790.0029           50   \n",
      "1     5.800000   297.900   2035.000   1779.000    961.3080           50   \n",
      "2     4.850000   231.100   1594.300   1510.600   1046.3954           50   \n",
      "3     4.700000   242.700   1662.600   1525.700    842.5112           50   \n",
      "4     4.600000   251.400   1767.600   1619.400   1200.3288           50   \n",
      "7   113.300000  1771.000  42650.000  36065.000  37405.5843           45   \n",
      "8   118.500000  1425.000  40990.000  32099.000  26452.7417           45   \n",
      "9   122.300000  1594.000  40180.000  32347.000  23685.5569           45   \n",
      "10    0.452000    29.499    135.052    117.119    168.7421           35   \n",
      "11    0.783000    44.364    197.317    171.674    413.2812           35   \n",
      "12    0.853000    58.394    263.217    227.617    408.1892           35   \n",
      "13    1.174000    97.778    367.422    322.251    260.4902           35   \n",
      "14    0.985000    83.062    417.011    360.792    476.5599           35   \n",
      "24    0.490995     0.075      1.210      3.210    208.5249           67   \n",
      "25   10.700000   217.091   1414.400   1221.124   2006.7327           36   \n",
      "26   10.900000   279.791   1442.604   1233.231   2217.1528           36   \n",
      "27   10.400000   256.496   1353.228   1098.265   2400.0713           36   \n",
      "28   10.200000   220.072   1195.529    987.276   2105.3744           36   \n",
      "29   10.800000   221.091   1312.661   1067.927   2750.6934           36   \n",
      "30    6.613000   368.730   3301.804   2045.713   5594.6981           49   \n",
      "\n",
      "    NumNull  Year  \n",
      "0         0  2013  \n",
      "1         0  2014  \n",
      "2         0  2015  \n",
      "3         0  2016  \n",
      "4         0  2017  \n",
      "7         0  2014  \n",
      "8         0  2015  \n",
      "9         0  2016  \n",
      "10        0  2012  \n",
      "11        0  2013  \n",
      "12        0  2014  \n",
      "13        0  2015  \n",
      "14        0  2016  \n",
      "24        2  2016  \n",
      "25        0  2013  \n",
      "26        0  2014  \n",
      "27        0  2015  \n",
      "28        0  2016  \n",
      "29        0  2017  \n",
      "30        0  2012  \n"
     ]
    }
   ],
   "source": [
    "financials['Year'] = financials.datadate.dt.year\n",
    "financials.sort_values(by=['gvkey','datadate'], ascending=[True,True],inplace=True)\n",
    "\n",
    "print(financials.head(20))"
   ]
  },
  {
   "cell_type": "markdown",
   "metadata": {},
   "source": [
    "# Prepare data for OLS analysis"
   ]
  },
  {
   "cell_type": "markdown",
   "metadata": {},
   "source": [
    "We are interested in doing OLS regression analysis on our data. For this matter we create new columns with lagged data, since this will be useful in our analysis later on."
   ]
  },
  {
   "cell_type": "code",
   "execution_count": 15,
   "metadata": {},
   "outputs": [],
   "source": [
    "financials['prevSALE'] = financials.SALE.shift(1)\n",
    "financials['prevAT'] = financials.AT.shift(1)\n",
    "financials['prevEMP'] = financials.EMP.shift(1)\n",
    "financials['prevCOGS'] = financials.COGS.shift(1)\n",
    "financials['prevREC'] = financials.REC.shift(1)\n",
    "financials['prevXOPR'] = financials.XOPR.shift(1)\n",
    "financials['prevAP'] = financials.AP.shift(1)"
   ]
  },
  {
   "cell_type": "markdown",
   "metadata": {},
   "source": [
    "We now have to adress the issue of inconsistency in the data, meaning that not all companies have the same amount of years of data. Also the sihft variables do not take into acount, that the last observation for one company will be directly above the first observation of another company. We therefore have to make sure that the rows where these issues exist, will be dropped out of the data set."
   ]
  },
  {
   "cell_type": "code",
   "execution_count": 16,
   "metadata": {},
   "outputs": [],
   "source": [
    "financials = financials[((financials.Year-1 == financials.Year.shift(1)) & (financials.gvkey == financials.gvkey.shift(1)))]"
   ]
  },
  {
   "cell_type": "markdown",
   "metadata": {},
   "source": [
    "The next step is to create scaled variables that we can use for the OLS regression. To improve consistency in the data we will try to begin by deflating all variables with assets, AT. Our model will analyse SALES as the dependent variable, and thus we deflate this by AT whilst all other variables are deflated by 'current' assets, prevAT. To do so we need to make sure that AT and prevAT are positive values. "
   ]
  },
  {
   "cell_type": "code",
   "execution_count": 17,
   "metadata": {},
   "outputs": [],
   "source": [
    "financials = financials [(financials.AT > 0)]\n",
    "financials = financials [(financials.prevAT > 0)]"
   ]
  },
  {
   "cell_type": "markdown",
   "metadata": {},
   "source": [
    "Which allows us to create all our scaled variables for the OLS regression analysis. A number of the variables have been manipulated with, and parts are commented out etc. The explanation for this will follow in the next section, but has to do with the specification of the model."
   ]
  },
  {
   "cell_type": "code",
   "execution_count": 18,
   "metadata": {},
   "outputs": [],
   "source": [
    "financials['Scaled_Sales'] = np.log(financials.SALE)\n",
    "financials['Scaled_prevSales'] = np.log(financials.prevSALE)\n",
    "financials['Scaled_Emp'] = np.log(financials.EMP)# / financials.prevAT)\n",
    "financials['Scaled_EmpChange'] = (financials.EMP - financials.prevEMP) #/ financials.prevAT\n",
    "financials['Scaled_COGS'] = np.log(financials.COGS)# / financials.prevAT)\n",
    "financials['Scaled_COGSChange'] = (financials.COGS - financials.prevCOGS) #/ financials.prevAT\n",
    "#financials['Scaled_Rec'] = financials.REC / financials.prevAT\n",
    "financials['Scaled_RecChange'] = (financials.REC - financials.prevREC) #/ financials.prevAT\n",
    "#financials['Scaled_XOPR'] = np.log(financials.XOPR / financials.prevAT)\n",
    "#financials['Scaled_XOPRChange'] = (financials.XOPR - financials.prevXOPR) / financials.prevAT\n",
    "#financials['Scaled_AP'] = financials.AP / financials.prevAT\n",
    "#financials['Scaled_APChange'] = (financials.AP - financials.prevAP) #/ financials.prevAT\n",
    "financials['BookToMarket'] = financials.BV / financials.MV"
   ]
  },
  {
   "cell_type": "markdown",
   "metadata": {},
   "source": [
    "This improved it significantly, and we now continue to do the OLS regression"
   ]
  },
  {
   "cell_type": "markdown",
   "metadata": {},
   "source": [
    "# OLS regression analysis"
   ]
  },
  {
   "cell_type": "markdown",
   "metadata": {},
   "source": [
    "The first thing we do is to ensure that there are no missing values overall in the data set."
   ]
  },
  {
   "cell_type": "code",
   "execution_count": 22,
   "metadata": {},
   "outputs": [],
   "source": [
    "financials.dropna(inplace=True)"
   ]
  },
  {
   "cell_type": "markdown",
   "metadata": {},
   "source": [
    "We start by running the full model without any commenting out in the scaled variables as introduced in the section above. From those results, we saw ceveral issues with the results. There were weird linear 'cut offs' in plotted residuals, insignificant varibales and other problems. We will not get further into the econometrics behind our decisions, but solely note below the steps we did to improve data performance in the OLS regression model: \n",
    "\n",
    "> 1. We start by taking the logarithm to SALES, since the distribution looks terrible.\n",
    "> 1. We then change the deflation of the varibales. We no longer divide the varibales by AT and prevAT, but instead we take the logarithm to all varibales that are not change varibales except for BookToMarket, since there is no clear positive correlation between sales and BookToMarket values. \n",
    "> 1. We then remove REC, XOPR, XOPRChange, AP and APChange due to numerical problems as well as insignificancy. \n",
    "> 1. All of the steps above are incorporated in the specification of the scaled variables in section 5, which is why parts of the original full model are commented out. \n",
    "\n",
    "The corrected model yields nice results for both boxplots, violin plots and histogram of sales, which can be seen below."
   ]
  },
  {
   "cell_type": "code",
   "execution_count": 29,
   "metadata": {},
   "outputs": [
    {
     "data": {
      "text/plain": [
       "<Figure size 432x288 with 0 Axes>"
      ]
     },
     "execution_count": 29,
     "metadata": {},
     "output_type": "execute_result"
    },
    {
     "data": {
      "image/png": "[encoded data removed]",
      "text/plain": [
       "<Figure size 432x288 with 1 Axes>"
      ]
     },
     "metadata": {
      "needs_background": "light"
     },
     "output_type": "display_data"
    },
    {
     "data": {
      "image/png": "[encoded data removed]",
      "text/plain": [
       "<Figure size 432x288 with 1 Axes>"
      ]
     },
     "metadata": {
      "needs_background": "light"
     },
     "output_type": "display_data"
    },
    {
     "data": {
      "image/png": "[encoded data removed]",
      "text/plain": [
       "<Figure size 432x288 with 1 Axes>"
      ]
     },
     "metadata": {
      "needs_background": "light"
     },
     "output_type": "display_data"
    },
    {
     "data": {
      "text/plain": [
       "<Figure size 432x288 with 0 Axes>"
      ]
     },
     "metadata": {},
     "output_type": "display_data"
    }
   ],
   "source": [
    "sns.boxplot(x=financials.SALE)\n",
    "plt.figure()\n",
    "\n",
    "sns.violinplot(x=financials.SALE, color=\"0.25\")\n",
    "plt.figure()\n",
    "\n",
    "sns.distplot(financials.SALE, kde=False, fit=stats.norm)\n",
    "plt.figure()"
   ]
  },
  {
   "cell_type": "markdown",
   "metadata": {},
   "source": [
    "Below we run the OLS regression model with the final well specified model:"
   ]
  },
  {
   "cell_type": "code",
   "execution_count": 30,
   "metadata": {},
   "outputs": [
    {
     "name": "stdout",
     "output_type": "stream",
     "text": [
      "                            OLS Regression Results                            \n",
      "==============================================================================\n",
      "Dep. Variable:           Scaled_Sales   R-squared:                       0.973\n",
      "Model:                            OLS   Adj. R-squared:                  0.973\n",
      "Method:                 Least Squares   F-statistic:                 8.825e+04\n",
      "Date:                Fri, 03 Apr 2020   Prob (F-statistic):               0.00\n",
      "Time:                        20:09:30   Log-Likelihood:                -9666.7\n",
      "No. Observations:               16946   AIC:                         1.935e+04\n",
      "Df Residuals:                   16938   BIC:                         1.941e+04\n",
      "Df Model:                           7                                         \n",
      "Covariance Type:            nonrobust                                         \n",
      "=====================================================================================\n",
      "                        coef    std err          t      P>|t|      [0.025      0.975]\n",
      "-------------------------------------------------------------------------------------\n",
      "Intercept             1.8665      0.043     43.363      0.000       1.782       1.951\n",
      "Scaled_prevSales      0.8373      0.004    232.656      0.000       0.830       0.844\n",
      "Scaled_Emp            0.0425      0.002     17.460      0.000       0.038       0.047\n",
      "Scaled_EmpChange      0.0037      0.001      5.754      0.000       0.002       0.005\n",
      "Scaled_COGS           0.1117      0.003     35.647      0.000       0.106       0.118\n",
      "Scaled_COGSChange     3.5571      0.504      7.056      0.000       2.569       4.545\n",
      "Scaled_RecChange   1.504e-06      7e-07      2.148      0.032    1.32e-07    2.88e-06\n",
      "BookToMarket         -0.0040      0.001     -4.178      0.000      -0.006      -0.002\n",
      "==============================================================================\n",
      "Omnibus:                     9899.956   Durbin-Watson:                   1.940\n",
      "Prob(Omnibus):                  0.000   Jarque-Bera (JB):          2082029.139\n",
      "Skew:                          -1.709   Prob(JB):                         0.00\n",
      "Kurtosis:                      57.194   Cond. No.                     7.36e+05\n",
      "==============================================================================\n",
      "\n",
      "Warnings:\n",
      "[1] Standard Errors assume that the covariance matrix of the errors is correctly specified.\n",
      "[2] The condition number is large, 7.36e+05. This might indicate that there are\n",
      "strong multicollinearity or other numerical problems.\n"
     ]
    }
   ],
   "source": [
    "model_results = sm.ols(formula='Scaled_Sales ~ Scaled_prevSales + Scaled_Emp + Scaled_EmpChange + Scaled_COGS + Scaled_COGSChange + Scaled_RecChange + BookToMarket', data=financials).fit()\n",
    "print(model_results.summary())\n",
    "\n",
    "\n",
    "#model_results = sm.ols(formula='Scaled_Sales ~ Scaled_prevSales + Scaled_Emp + Scaled_EmpChange + Scaled_COGS + Scaled_COGSChange + Scaled_RecChange + BookToMarket', data=financials).fit()\n",
    "#print(model_results.summary())"
   ]
  },
  {
   "cell_type": "markdown",
   "metadata": {},
   "source": [
    "To get more robust test results, we create clustered standard errors for robust test results"
   ]
  },
  {
   "cell_type": "code",
   "execution_count": 31,
   "metadata": {},
   "outputs": [
    {
     "name": "stdout",
     "output_type": "stream",
     "text": [
      "                            OLS Regression Results                            \n",
      "==============================================================================\n",
      "Dep. Variable:           Scaled_Sales   R-squared:                       0.973\n",
      "Model:                            OLS   Adj. R-squared:                  0.973\n",
      "Method:                 Least Squares   F-statistic:                 5.756e+04\n",
      "Date:                Fri, 03 Apr 2020   Prob (F-statistic):          1.22e-125\n",
      "Time:                        20:09:33   Log-Likelihood:                -9666.7\n",
      "No. Observations:               16946   AIC:                         1.935e+04\n",
      "Df Residuals:                   16938   BIC:                         1.941e+04\n",
      "Df Model:                           7                                         \n",
      "Covariance Type:              cluster                                         \n",
      "=====================================================================================\n",
      "                        coef    std err          t      P>|t|      [0.025      0.975]\n",
      "-------------------------------------------------------------------------------------\n",
      "Intercept             1.8665      0.389      4.794      0.000       1.090       2.643\n",
      "Scaled_prevSales      0.8373      0.028     30.255      0.000       0.782       0.893\n",
      "Scaled_Emp            0.0425      0.013      3.399      0.001       0.018       0.067\n",
      "Scaled_EmpChange      0.0037      0.001      6.865      0.000       0.003       0.005\n",
      "Scaled_COGS           0.1117      0.030      3.684      0.000       0.051       0.172\n",
      "Scaled_COGSChange     3.5571      1.242      2.863      0.006       1.078       6.036\n",
      "Scaled_RecChange   1.504e-06   4.57e-07      3.290      0.002    5.92e-07    2.42e-06\n",
      "BookToMarket         -0.0040      0.002     -1.853      0.068      -0.008       0.000\n",
      "==============================================================================\n",
      "Omnibus:                     9899.956   Durbin-Watson:                   1.940\n",
      "Prob(Omnibus):                  0.000   Jarque-Bera (JB):          2082029.139\n",
      "Skew:                          -1.709   Prob(JB):                         0.00\n",
      "Kurtosis:                      57.194   Cond. No.                     7.36e+05\n",
      "==============================================================================\n",
      "\n",
      "Warnings:\n",
      "[1] Standard Errors are robust tocluster correlation (cluster)\n",
      "[2] The condition number is large, 7.36e+05. This might indicate that there are\n",
      "strong multicollinearity or other numerical problems.\n"
     ]
    }
   ],
   "source": [
    "robust_result = model_results.get_robustcov_results(cov_type='cluster', use_t=None, groups=financials['2_digit_sic'])\n",
    "print(robust_result.summary())\n",
    "\n",
    "\n",
    "#robust_result = model_results.get_robustcov_results(cov_type='cluster', use_t=None, groups=financials['2_digit_sic'])\n",
    "#print(robust_result.summary())"
   ]
  },
  {
   "cell_type": "markdown",
   "metadata": {},
   "source": [
    "**Heteroskedasticity test.** We analyse the potential heteroskedasticity problems graphically by plotting residulas againt predicted values."
   ]
  },
  {
   "cell_type": "code",
   "execution_count": 37,
   "metadata": {},
   "outputs": [
    {
     "data": {
      "text/plain": [
       "<Figure size 432x288 with 0 Axes>"
      ]
     },
     "execution_count": 37,
     "metadata": {},
     "output_type": "execute_result"
    },
    {
     "data": {
      "image/png": "[encoded data removed]",
      "text/plain": [
       "<Figure size 432x288 with 1 Axes>"
      ]
     },
     "metadata": {
      "needs_background": "light"
     },
     "output_type": "display_data"
    },
    {
     "data": {
      "image/png": "[encoded data removed]",
      "text/plain": [
       "<Figure size 432x288 with 1 Axes>"
      ]
     },
     "metadata": {
      "needs_background": "light"
     },
     "output_type": "display_data"
    },
    {
     "data": {
      "text/plain": [
       "<Figure size 432x288 with 0 Axes>"
      ]
     },
     "metadata": {},
     "output_type": "display_data"
    }
   ],
   "source": [
    "financials[\"residuals\"] = model_results.resid\n",
    "financials[\"predicted\"] = model_results.fittedvalues\n",
    "plt.scatter(financials.predicted, financials.residuals)\n",
    "plt.title(\"Residuals by Predicted\")\n",
    "plt.xlabel(\"Predicted\")\n",
    "plt.ylabel(\"Residuals\")\n",
    "plt.figure()\n",
    "\n",
    "plt.scatter(financials.predicted, financials.residuals, s=1, alpha=0.1)\n",
    "plt.title(\"Residuals by Predicted\")\n",
    "plt.xlabel(\"Predicted\")\n",
    "plt.ylabel(\"Residuals\")\n",
    "plt.figure()"
   ]
  },
  {
   "cell_type": "markdown",
   "metadata": {},
   "source": [
    "Heteroskedasticity tests look as good as they get after respecifiying the model from the original full model to the final model as specified above. There might still be small potential issues regarding heteroskedasticity, which we could handle by performing a heteroskedasticity robust 'HC3' test. This should converge residuals into a more normal distribution:"
   ]
  },
  {
   "cell_type": "code",
   "execution_count": 38,
   "metadata": {},
   "outputs": [
    {
     "name": "stdout",
     "output_type": "stream",
     "text": [
      "                            OLS Regression Results                            \n",
      "==============================================================================\n",
      "Dep. Variable:           Scaled_Sales   R-squared:                       0.973\n",
      "Model:                            OLS   Adj. R-squared:                  0.973\n",
      "Method:                 Least Squares   F-statistic:                 4.657e+04\n",
      "Date:                Fri, 03 Apr 2020   Prob (F-statistic):               0.00\n",
      "Time:                        20:18:38   Log-Likelihood:                -9666.7\n",
      "No. Observations:               16946   AIC:                         1.935e+04\n",
      "Df Residuals:                   16938   BIC:                         1.941e+04\n",
      "Df Model:                           7                                         \n",
      "Covariance Type:                  HC3                                         \n",
      "=====================================================================================\n",
      "                        coef    std err          t      P>|t|      [0.025      0.975]\n",
      "-------------------------------------------------------------------------------------\n",
      "Intercept             1.8665      0.149     12.562      0.000       1.575       2.158\n",
      "Scaled_prevSales      0.8373      0.013     65.404      0.000       0.812       0.862\n",
      "Scaled_Emp            0.0425      0.004     11.099      0.000       0.035       0.050\n",
      "Scaled_EmpChange      0.0037      0.001      5.556      0.000       0.002       0.005\n",
      "Scaled_COGS           0.1117      0.009     11.777      0.000       0.093       0.130\n",
      "Scaled_COGSChange     3.5571      0.767      4.640      0.000       2.055       5.060\n",
      "Scaled_RecChange   1.504e-06   5.58e-07      2.695      0.007     4.1e-07     2.6e-06\n",
      "BookToMarket         -0.0040      0.002     -2.147      0.032      -0.008      -0.000\n",
      "==============================================================================\n",
      "Omnibus:                     9899.956   Durbin-Watson:                   1.940\n",
      "Prob(Omnibus):                  0.000   Jarque-Bera (JB):          2082029.139\n",
      "Skew:                          -1.709   Prob(JB):                         0.00\n",
      "Kurtosis:                      57.194   Cond. No.                     7.36e+05\n",
      "==============================================================================\n",
      "\n",
      "Warnings:\n",
      "[1] Standard Errors are heteroscedasticity robust (HC3)\n",
      "[2] The condition number is large, 7.36e+05. This might indicate that there are\n",
      "strong multicollinearity or other numerical problems.\n"
     ]
    },
    {
     "data": {
      "text/plain": [
       "<Figure size 432x288 with 0 Axes>"
      ]
     },
     "execution_count": 38,
     "metadata": {},
     "output_type": "execute_result"
    },
    {
     "data": {
      "image/png": "[encoded data removed]",
      "text/plain": [
       "<Figure size 432x288 with 1 Axes>"
      ]
     },
     "metadata": {
      "needs_background": "light"
     },
     "output_type": "display_data"
    },
    {
     "data": {
      "text/plain": [
       "<Figure size 432x288 with 0 Axes>"
      ]
     },
     "metadata": {},
     "output_type": "display_data"
    }
   ],
   "source": [
    "robust_results = model_results.get_robustcov_results(cov_type='HC3', use_t=None)\n",
    "print(robust_results.summary())\n",
    "\n",
    "sns.distplot(financials.residuals, kde=False, fit=stats.norm)\n",
    "plt.figure()"
   ]
  },
  {
   "cell_type": "markdown",
   "metadata": {},
   "source": [
    "The last econometric test behind our decisions regarding the respecification of the original model is the VIF score test, telling us the degree of multicollinarity for adding additional varibales to the model. The classic rule of thumb is that VIF scores should not be above 5, unless a variable seems very like to affect the dependent varibale of the model. From the VIF score test we find, that only prevSales is significantly higher that 5, but cannot be omitted since the varibale is very likely to affect Sales itself. COGS is also slightly abouve 5, but removing COGS from the model decreases performance of the model, e.g. through decreased r-squared value. "
   ]
  },
  {
   "cell_type": "code",
   "execution_count": 39,
   "metadata": {},
   "outputs": [
    {
     "name": "stdout",
     "output_type": "stream",
     "text": [
      "   VIF Factor           Variable\n",
      "0        6.78   Scaled_prevSales\n",
      "1        3.15         Scaled_Emp\n",
      "2        1.04   Scaled_EmpChange\n",
      "3        5.27        Scaled_COGS\n",
      "4        1.04  Scaled_COGSChange\n",
      "5        1.04   Scaled_RecChange\n",
      "6        1.14       BookToMarket\n"
     ]
    }
   ],
   "source": [
    "myX = financials[['Scaled_prevSales', 'Scaled_Emp', 'Scaled_EmpChange', 'Scaled_COGS', 'Scaled_COGSChange', 'Scaled_RecChange', 'BookToMarket']]\n",
    "\n",
    "myX = myX.dropna()\n",
    "\n",
    "vif = pd.DataFrame()\n",
    "\n",
    "vif[\"VIF Factor\"] = [sm_influence.variance_inflation_factor(myX.values, i) for i in range(myX.shape[1])]\n",
    "vif[\"Variable\"]=myX.columns\n",
    "print(vif.round(2)) "
   ]
  },
  {
   "cell_type": "markdown",
   "metadata": {},
   "source": [
    "From all of the above, we can conclude that we found the best possible specified model from our data set."
   ]
  },
  {
   "cell_type": "markdown",
   "metadata": {},
   "source": [
    "# Conclusion"
   ]
  },
  {
   "cell_type": "markdown",
   "metadata": {},
   "source": [
    "We can conclude that we succesfully applied cleaning and structuring methods on the data set consisting of approx. 320.000 rows with data from more than 40.000 differenct companies. The data got cleaned and prepared for OLS regression analysis, and the OLS analysis was conducted succesfully. \n",
    "Besides cleaning data for preperation, the data was furthermore manipulated into meeting the specific criteria and requirements of a succesful OLS analysis.\n",
    "\n",
    "From the analysis, we can conclude that Sales depends positively on both prevSales, Emp, EmpChange, COGS, CogsChange and RECChange. The coefficient for BookToMarket is slightly negative, however insignificant on a 3% level of significance. "
   ]
  },
  {
   "cell_type": "code",
   "execution_count": null,
   "metadata": {},
   "outputs": [],
   "source": []
  }
 ],
 "metadata": {
  "kernelspec": {
   "display_name": "Python 3",
   "language": "python",
   "name": "python3"
  },
  "language_info": {
   "codemirror_mode": {
    "name": "ipython",
    "version": 3
   },
   "file_extension": ".py",
   "mimetype": "text/x-python",
   "name": "python",
   "nbconvert_exporter": "python",
   "pygments_lexer": "ipython3",
   "version": "3.7.3"
  },
  "toc-autonumbering": true
 },
 "nbformat": 4,
 "nbformat_minor": 4
}
