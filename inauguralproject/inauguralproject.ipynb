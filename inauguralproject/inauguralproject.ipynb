{
 "cells": [
  {
   "cell_type": "markdown",
   "metadata": {},
   "source": [
    "# Inaugural Project"
   ]
  },
  {
   "cell_type": "markdown",
   "metadata": {},
   "source": [
    "In this project we will solve a labor supply problem, with a focus on how taxes effects labour supplu and consumption. "
   ]
  },
  {
   "cell_type": "markdown",
   "metadata": {},
   "source": [
    "Imports and set magics:"
   ]
  },
  {
   "cell_type": "code",
   "execution_count": 1,
   "metadata": {},
   "outputs": [],
   "source": [
    "import numpy as np\n",
    "import matplotlib.pyplot as plt\n",
    "from scipy import optimize\n",
    "\n",
    "# autoreload modules when code is run\n",
    "%load_ext autoreload\n",
    "%autoreload 2\n",
    "\n",
    "# local modules\n",
    "import inauguralproject"
   ]
  },
  {
   "cell_type": "markdown",
   "metadata": {
    "toc-hr-collapsed": true
   },
   "source": [
    "# Question 1"
   ]
  },
  {
   "cell_type": "markdown",
   "metadata": {},
   "source": [
    "We start by defining the given parameters (as global): "
   ]
  },
  {
   "cell_type": "code",
   "execution_count": 2,
   "metadata": {},
   "outputs": [],
   "source": [
    "m = 1       #cash-on-hand\n",
    "v = 10      #scales the disutility of labor\n",
    "#eps = 0.3  #Frisch elasticity of labor supply (We define epsilon within the functions later in order to being able to change it more easy).\n",
    "tau0 = 0.4  #standard labor income tax\n",
    "tau1 = 0.1  #top bracket labor income tax\n",
    "kappa = 0.4 #cut-off for the top labor income bracket\n",
    "w = 1       #wage rate (w is arbitrarily set to 1. Varies throughout problems)"
   ]
  },
  {
   "cell_type": "markdown",
   "metadata": {},
   "source": [
    "In the python file (inauguralproject.py) we define, the given utility function (1), the constraint for total resources (2) and incorporate that $ c^*=x $:\n",
    "1. $ c^{\\star}, \\ell^{\\star}=\\arg \\max _{c, \\ell} \\log (c)-\\nu \\frac{\\ell^{1+\\frac{1}{\\varepsilon}}}{1+\\frac{1}{\\varepsilon}} $\n",
    "2. $ x=m+w \\ell-\\left[\\tau_{0} w \\ell+\\tau_{1} \\max \\{w \\ell-\\kappa, 0\\}\\right] $"
   ]
  },
  {
   "cell_type": "markdown",
   "metadata": {},
   "source": [
    "Then we call the \"print_result\" function from the python file. The function is a print function of the results from the optimizer function."
   ]
  },
  {
   "cell_type": "code",
   "execution_count": 3,
   "metadata": {},
   "outputs": [
    {
     "name": "stdout",
     "output_type": "stream",
     "text": [
      "Opitmal labor supply is: 0.400\n",
      "Optimal consumption is: 1.240\n",
      "Corresponding utility is: 0.172\n"
     ]
    }
   ],
   "source": [
    "solution = inauguralproject.print_result(w, m, tau0, tau1, kappa, v, eps=0.3) # call the print_result from py file. "
   ]
  },
  {
   "cell_type": "markdown",
   "metadata": {},
   "source": [
    "# Question 2"
   ]
  },
  {
   "cell_type": "code",
   "execution_count": 4,
   "metadata": {},
   "outputs": [
    {
     "data": {
      "image/png": "[encoded data removed]",
      "text/plain": [
       "<Figure size 864x576 with 1 Axes>"
      ]
     },
     "metadata": {
      "needs_background": "light"
     },
     "output_type": "display_data"
    },
    {
     "data": {
      "image/png": "[encoded data removed]",
      "text/plain": [
       "<Figure size 864x576 with 1 Axes>"
      ]
     },
     "metadata": {
      "needs_background": "light"
     },
     "output_type": "display_data"
    }
   ],
   "source": [
    "\n",
    "# Create plot for optimal values of l for w between 0.5 and 1.5\n",
    "\n",
    "plt.figure(figsize = (12,8))\n",
    "plt.scatter(inauguralproject.w_list, inauguralproject.l_values)\n",
    "plt.xlabel(\"w\")\n",
    "plt.ylabel(\"Optimal l\")\n",
    "plt.grid(True)\n",
    "plt.show()\n",
    "\n",
    "# Create plot for optimal values of c for w between 0.5 and 1.5\n",
    "\n",
    "plt.figure(figsize = (12,8))\n",
    "plt.scatter(inauguralproject.w_list, inauguralproject.c_values)\n",
    "plt.xlabel(\"w\")\n",
    "plt.ylabel(\"Optimal c\")\n",
    "plt.grid(True)\n",
    "plt.show()"
   ]
  },
  {
   "cell_type": "markdown",
   "metadata": {},
   "source": [
    "# Question 3"
   ]
  },
  {
   "cell_type": "markdown",
   "metadata": {},
   "source": [
    "ADD ANSWER."
   ]
  },
  {
   "cell_type": "code",
   "execution_count": 5,
   "metadata": {},
   "outputs": [
    {
     "name": "stdout",
     "output_type": "stream",
     "text": [
      "The optimal tax revenue is: 1630.1868725628688\n"
     ]
    }
   ],
   "source": [
    "# Calling the defined tax revenue function and prints the result for the optimal tax revenue\n",
    "\n",
    "print('The optimal tax revenue is:',inauguralproject.tax_revenue())"
   ]
  },
  {
   "cell_type": "markdown",
   "metadata": {},
   "source": [
    "# Question 4"
   ]
  },
  {
   "cell_type": "markdown",
   "metadata": {},
   "source": [
    "ADD ANSWER."
   ]
  },
  {
   "cell_type": "code",
   "execution_count": 6,
   "metadata": {},
   "outputs": [
    {
     "name": "stdout",
     "output_type": "stream",
     "text": [
      "The optimal tax revenue when epsilon = 0.1 is: 3196.881000412961\n"
     ]
    }
   ],
   "source": [
    "# Changing epsilon value: \n",
    "\n",
    "print('The optimal tax revenue when epsilon = 0.1 is:', inauguralproject.tax_revenue_new())"
   ]
  },
  {
   "cell_type": "markdown",
   "metadata": {},
   "source": [
    "# Question 5"
   ]
  },
  {
   "cell_type": "markdown",
   "metadata": {},
   "source": [
    "ADD ANSWER."
   ]
  },
  {
   "cell_type": "code",
   "execution_count": 7,
   "metadata": {},
   "outputs": [
    {
     "name": "stdout",
     "output_type": "stream",
     "text": [
      "['Opitmal tau_0 is:', 0.6493314015953652] ['Optimal tau_1 is:', 0.3197171727081088] ['Optimal kappa is', 0.397970377013659]\n"
     ]
    }
   ],
   "source": [
    "# code\n",
    "\n",
    "inauguralproject.ballademager()\n",
    "\n",
    "#ballade = optimize.minimize(inauguralproject.tax_revenue_objective, method='TNC', x0=[0.4, 0.1, 0.4], bounds=bnds)\n",
    "\n",
    "#print(ballade)\n",
    "\n",
    "#res = inauguralproject.out\n",
    "#print(res)\n",
    "\n",
    "#print('Optimal tau_0 is:', inauguralproject.out.x[0])\n",
    "#print('Optimal tau_1 is:', inauguralproject.out.x[1])\n",
    "#print('Optimal kappa is:', inauguralproject.out.x[2])\n",
    "\n",
    "#solution1= inauguralproject.print_result123(x)\n",
    "\n",
    "\n"
   ]
  },
  {
   "cell_type": "markdown",
   "metadata": {},
   "source": [
    "# Conclusion"
   ]
  },
  {
   "cell_type": "markdown",
   "metadata": {},
   "source": [
    "ADD CONCISE CONLUSION."
   ]
  }
 ],
 "metadata": {
  "kernelspec": {
   "display_name": "Python 3",
   "language": "python",
   "name": "python3"
  },
  "language_info": {
   "codemirror_mode": {
    "name": "ipython",
    "version": 3
   },
   "file_extension": ".py",
   "mimetype": "text/x-python",
   "name": "python",
   "nbconvert_exporter": "python",
   "pygments_lexer": "ipython3",
   "version": "3.7.4"
  },
  "toc-autonumbering": false
 },
 "nbformat": 4,
 "nbformat_minor": 4
}