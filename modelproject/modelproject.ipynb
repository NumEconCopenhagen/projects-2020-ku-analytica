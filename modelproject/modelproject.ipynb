{
 "cells": [
  {
   "cell_type": "markdown",
   "metadata": {},
   "source": [
    "# Model Project"
   ]
  },
  {
   "cell_type": "markdown",
   "metadata": {},
   "source": [
    "In the following project we will analyse the basic solow-model as well as the extended R&D based growth model."
   ]
  },
  {
   "cell_type": "markdown",
   "metadata": {},
   "source": [
    "Import packages and set magics:"
   ]
  },
  {
   "cell_type": "code",
   "execution_count": 5,
   "metadata": {},
   "outputs": [],
   "source": [
    "from __future__ import print_function\n",
    "import numpy as np\n",
    "import sympy as sm\n",
    "import pandas as pd\n",
    "import matplotlib.pyplot as plt\n",
    "import ipywidgets as widgets\n",
    "from ipywidgets import interact, interactive, fixed, interact_manual\n",
    "from scipy import optimize\n",
    "\n",
    "sm.init_printing(use_unicode=True)"
   ]
  },
  {
   "cell_type": "markdown",
   "metadata": {
    "toc-hr-collapsed": true
   },
   "source": [
    "# Model setup"
   ]
  },
  {
   "cell_type": "markdown",
   "metadata": {},
   "source": [
    "We consider the **basic Solow-model** as presented by 'Whitta-Jacobsen and Birch Sørensen'. The complete basic model looks as follows:\n",
    "\n",
    "1. $Y_t = BK_t^\\alpha L_t^{1-\\alpha}$\n",
    "* $r_t = \\alpha B\\left(\\frac{K_t}{L_t}\\right)^{\\alpha-1}$\n",
    "* $w_t = (1-\\alpha)B\\left(\\frac{K_t}{L_t}\\right)^\\alpha$\n",
    "* $S_t = s Y_t$\n",
    "* $K_{t+1} - K_t = S_t - \\delta K_t$\n",
    "* $L_{t+1} = (1+n)L_t$\n",
    "\n",
    "Where $K_t$ is capital, $L_t$ is labor and $Y_t$ is output\n",
    "\n",
    "We note that the production function has constant return to scale, since:\n",
    "\n",
    "$ (\\gamma K_t)^\\alpha (\\gamma L_t)^{(1-\\alpha)} = \\gamma^\\alpha \\gamma^{(1-\\alpha)} K_t^\\alpha L_t^{(1-\\alpha)} = \\gamma Y_t $\n",
    "\n",
    "Production function also has positive decreasing returns to both capital and labor since\n",
    "\n",
    "$ \\frac{\\delta Y}{\\delta K} = r_t > 0 $, and $\\frac{\\delta^2 Y}{\\delta K^2} = r_t' < 0$\n",
    "\n",
    "$ \\frac{\\delta Y}{\\delta L} = w_t > 0 $, and $\\frac{\\delta^2 Y}{\\delta L^2} = w_t' < 0$\n",
    "\n",
    "Defining per capita capital and per capita labor:\n",
    "\n",
    "$ \\big(\\frac{Y_t}{L_t}\\big) = y_t $ \n",
    "\n",
    "$ \\big(\\frac{K_t}{L_t}\\big) = k_t $ \n",
    "\n",
    "Which yields the following output per capita function:\n",
    "\n",
    "7. $ y_t = Bk_t^\\alpha $\n",
    "\n",
    "By inserting the savings behavior (4) into the capital equation (5), dividing both sides with $L_{t+1}$ from (6), and subsituting in the expression for $y_t$ (7) we arrive at the transition equation:\n",
    "\n",
    "$ k_{t+1} = \\frac{1}{1+n} \\left[sBk_t^\\alpha + (1-\\delta) k_t \\right] $\n",
    "\n",
    "By subtracting $k_t$ from both sides, we obtain the so-called Solow-equation:\n",
    "\n",
    "8. $ k_{t+1} - k_t = \\frac{1}{1+n} \\left[sBk_t^\\alpha - (n+\\delta) k_t \\right] $\n",
    "\n"
   ]
  },
  {
   "cell_type": "markdown",
   "metadata": {},
   "source": [
    "# Steady state"
   ]
  },
  {
   "cell_type": "markdown",
   "metadata": {},
   "source": [
    "## Analytical solution"
   ]
  },
  {
   "cell_type": "markdown",
   "metadata": {},
   "source": [
    "We start by solving the steady state analytically. For this purpose we use the sumpy function, and solve for optimal level of capital from the Solow equation (8).\n",
    "\n",
    "$$ k_{t+1} - k_t = \\frac{1}{1+n} \\left[sBk_t^\\alpha - (n+\\delta) k_t \\right] $$"
   ]
  },
  {
   "cell_type": "markdown",
   "metadata": {},
   "source": [
    "We note that the steady state is charaterized by no change in capital per capita, which means that $k_{t+1} = k_t = k^*$. Hence the solow equation for steady state simplyfies into: "
   ]
  },
  {
   "cell_type": "markdown",
   "metadata": {},
   "source": [
    "$ 0 = \\frac{1}{1+n} \\left[sBk^{*\\alpha} - (n+\\delta) k^* \\right] $\n",
    "\n",
    "$ sBk^{*\\alpha} = (n+\\delta) k^* $"
   ]
  },
  {
   "cell_type": "markdown",
   "metadata": {},
   "source": [
    "We can now solve for the steady state level of capital per capita with the sympy function. First we define the symbols used for the sympy solution:"
   ]
  },
  {
   "cell_type": "code",
   "execution_count": 6,
   "metadata": {},
   "outputs": [],
   "source": [
    "Y = sm.symbols(\"Y_t\")         # Output\n",
    "y = sm.symbols(\"y_t\")         # Output per capita\n",
    "K = sm.symbols(\"K_t\")         # Capital\n",
    "k = sm.symbols(\"k_t\")         # Capital per capita\n",
    "s = sm.symbols(\"s\")           # Savings rate\n",
    "n = sm.symbols(\"n\")           # Population growth\n",
    "B = sm.symbols(\"B\")           # Total factor productivity\n",
    "L = sm.symbols(\"L_t\")         # Labor\n",
    "alpha = sm.symbols(\"alpha\")   # Capital intensity\n",
    "delta = sm.symbols(\"delta\")   # Depreciation rate\n",
    "kstar = sm.symbols(\"k^*\")     # Steady state for capital per capita\n",
    "ystar = sm.symbols(\"y^*\")     # Steady state for output per capita"
   ]
  },
  {
   "cell_type": "markdown",
   "metadata": {},
   "source": [
    "We then define the steady state equation. We do this with the sm.Eq function inserting the transition equation where  $k_{t+1} = k_t = k^*$: "
   ]
  },
  {
   "cell_type": "code",
   "execution_count": 7,
   "metadata": {},
   "outputs": [],
   "source": [
    "steadystate = sm.Eq(kstar, (s*B*kstar**alpha+(1-delta)*kstar)/(1+n))"
   ]
  },
  {
   "cell_type": "markdown",
   "metadata": {},
   "source": [
    "and solve it using the Sympy function sm.solve:"
   ]
  },
  {
   "cell_type": "code",
   "execution_count": 8,
   "metadata": {},
   "outputs": [
    {
     "data": {
      "image/png": "[encoded data removed]",
      "text/latex": [
       "$\\displaystyle k^{*} = \\left(\\frac{B s}{\\delta + n}\\right)^{- \\frac{1}{\\alpha - 1}}$"
      ],
      "text/plain": [
       "               -1  \n",
       "              ─────\n",
       "              α - 1\n",
       "       ⎛ B⋅s ⎞     \n",
       "k__* = ⎜─────⎟     \n",
       "       ⎝δ + n⎠     "
      ]
     },
     "execution_count": 8,
     "metadata": {},
     "output_type": "execute_result"
    }
   ],
   "source": [
    "steadystate_k = sm.solve(steadystate,kstar)[0]\n",
    "sm.Eq(kstar, steadystate_k)"
   ]
  },
  {
   "cell_type": "markdown",
   "metadata": {},
   "source": [
    "We now have en expression for the steady state level of capital per capita. From (7) we know that the steady state level of output per capita kan be found as:"
   ]
  },
  {
   "cell_type": "code",
   "execution_count": 9,
   "metadata": {},
   "outputs": [
    {
     "data": {
      "image/png": "[encoded data removed]",
      "text/latex": [
       "$\\displaystyle y^{*} = B \\left(\\left(\\frac{B s}{\\delta + n}\\right)^{- \\frac{1}{\\alpha - 1}}\\right)^{\\alpha}$"
      ],
      "text/plain": [
       "                       α\n",
       "         ⎛        -1  ⎞ \n",
       "         ⎜       ─────⎟ \n",
       "         ⎜       α - 1⎟ \n",
       "         ⎜⎛ B⋅s ⎞     ⎟ \n",
       "y__* = B⋅⎜⎜─────⎟     ⎟ \n",
       "         ⎝⎝δ + n⎠     ⎠ "
      ]
     },
     "execution_count": 9,
     "metadata": {},
     "output_type": "execute_result"
    }
   ],
   "source": [
    "steadystate_y = sm.Eq(ystar, B*steadystate_k**alpha)\n",
    "steadystate_y"
   ]
  },
  {
   "cell_type": "markdown",
   "metadata": {},
   "source": [
    "We now have expressions for both capital and output per capita. "
   ]
  },
  {
   "cell_type": "markdown",
   "metadata": {},
   "source": [
    "## Numerical solution and interactive visualization"
   ]
  },
  {
   "cell_type": "markdown",
   "metadata": {},
   "source": [
    "We solve for the real numbers of the steady state using the biseciton method. This depends on parameters $\\alpha, s, B, n$ and $\\delta$, which we set in the function. "
   ]
  },
  {
   "cell_type": "code",
   "execution_count": 10,
   "metadata": {},
   "outputs": [
    {
     "name": "stdout",
     "output_type": "stream",
     "text": [
      "Steady state capital per capita for given parameter values is: 24.7815\n"
     ]
    }
   ],
   "source": [
    "def bisect_ss(a,b, alpha=1/3, s=0.34, B=1, n=0.01, delta=0.03):\n",
    "    \n",
    "    \"\"\" \n",
    "    Input. Parameters of interest, and the interval [a,b]. This determines the interval on which the function evaluates \n",
    "\n",
    "    Output: Steady state value of capital per capita.  \n",
    "    \n",
    "    \"\"\"\n",
    "    result = optimize.bisect(lambda k: s*B*k**alpha - (n+delta)*k, a,b, full_output=False)\n",
    "    return result\n",
    "\n",
    "print(f'Steady state capital per capita for given parameter values is: {bisect_ss(1,100):.4f}')"
   ]
  },
  {
   "cell_type": "markdown",
   "metadata": {},
   "source": [
    "We now add en interactive element to the plot below. The following code allows the reader to use sliders to change paramter values $\\alpha, s, n, \\delta$ and $T$. The plot is a combination of the classic solow diagram where the intersection between $sBk^{\\alpha}$ and $(n+\\delta)k$ denotes the steady state level of capital per capita; and then an output diagram, where the steady state output $y_t$ shows as a function of capital per capita $k_t$. By combining the classic solow diagram with an output diagram, we allow to change the paramters, observe the intersection of the blue and the black line, and then go vertically up on the red line to find the corresponding steady state level of output per capita.  "
   ]
  },
  {
   "cell_type": "markdown",
   "metadata": {},
   "source": [
    "First we define the function that creates the plot:"
   ]
  },
  {
   "cell_type": "code",
   "execution_count": 11,
   "metadata": {},
   "outputs": [],
   "source": [
    "def simulate_solow(k,y,alpha,s,B,n,delta,T):\n",
    "    \"\"\"\n",
    "    Input: varibales and paramters of interest\n",
    "    \n",
    "    Output: A compbination of the solow diagram and an output diagram.\n",
    "    \n",
    "    \"\"\"\n",
    "    \n",
    "    # Create lists for k, diagonal line and y\n",
    "    k_list = [k]\n",
    "    diagonal = [0]\n",
    "    y_list = [y]\n",
    "    \n",
    "    # Create the diagonal line\n",
    "    for t in range(1,T):\n",
    "        line = (n + delta)*t\n",
    "        diagonal.append(line)\n",
    "        \n",
    "    # Create the Solow movement\n",
    "    for t in range(1,T):\n",
    "        k_plus = s*B*t**alpha\n",
    "        k_list.append(k_plus)\n",
    "    \n",
    "    # Create the output graph\n",
    "    for t in range(1,T):\n",
    "        y_plus = B*t**alpha\n",
    "        y_list.append(y_plus)\n",
    "    \n",
    "    # Plot\n",
    "    plt.figure(figsize=(5,5))\n",
    "    plt.plot(k_list[:T], label='$sBk_t^{\\u03B1}$', color = 'blue')\n",
    "    plt.plot(diagonal[:T], label = '$(n+\\delta)k_t$', color = 'black')\n",
    "    plt.plot(y_list[:T], label='$y_t$', color = 'red')\n",
    "    plt.xlim(0,T)\n",
    "    plt.ylim(0,6)\n",
    "    plt.xlabel('$k_t$')\n",
    "    plt.grid(True)\n",
    "    plt.legend()\n",
    "    \n",
    "    return plt.show()"
   ]
  },
  {
   "cell_type": "markdown",
   "metadata": {},
   "source": [
    "And then we add the interactive sliders:"
   ]
  },
  {
   "cell_type": "code",
   "execution_count": 12,
   "metadata": {},
   "outputs": [
    {
     "data": {
      "application/vnd.jupyter.widget-view+json": {
       "model_id": "3c9dfb303f504ab8863e5963fd51fd06",
       "version_major": 2,
       "version_minor": 0
      },
      "text/plain": [
       "interactive(children=(FloatSlider(value=0.3333333333333333, description='$α$', max=0.9, step=0.05), FloatSlide…"
      ]
     },
     "metadata": {},
     "output_type": "display_data"
    },
    {
     "data": {
      "text/plain": [
       "<function __main__.simulate_solow(k, y, alpha, s, B, n, delta, T)>"
      ]
     },
     "execution_count": 12,
     "metadata": {},
     "output_type": "execute_result"
    }
   ],
   "source": [
    "widgets.interact(simulate_solow, \n",
    "                k     = widgets.fixed(0), \n",
    "                y     = widgets.fixed(0),\n",
    "                alpha = widgets.FloatSlider(description = '$\\u03B1$' , min = 0 ,    max = 0.9 , step = 0.05 , value = 1/3),\n",
    "                delta = widgets.FloatSlider(description = '$\\u03B4$' , min = 0 ,    max = 0.1 , step = 0.01 , value = 0.03),\n",
    "                s     = widgets.FloatSlider(description = 's' ,        min = 0.01 , max = 0.8 , step = 0.05 , value = 0.34),\n",
    "                n     = widgets.FloatSlider(description ='$n$',        min = 0.01 , max = 0.1 , step = 0.005, value = 0.01),\n",
    "                B     = widgets.fixed(1),\n",
    "                T     = widgets.IntSlider(description='$T$' ,          min = 1,     max = 250, step = 1,    value = 100))"
   ]
  },
  {
   "cell_type": "markdown",
   "metadata": {},
   "source": [
    "# Model extension: The R&D based growth model"
   ]
  },
  {
   "cell_type": "markdown",
   "metadata": {},
   "source": [
    "The extension of the solow model we choose is the R&D based growth model where we add technology $A_t$ to the model. The full model now looks as follows:"
   ]
  },
  {
   "cell_type": "markdown",
   "metadata": {},
   "source": [
    "1. $Y_t = K_t^\\alpha (A_t L_{Y_t})^{1-\\alpha}$\n",
    "* $A_{t+1} - A_t = \\rho A_t^{\\phi} L_{A_t}^{\\lambda}$\n",
    "* $K_{t+1} = sY_t + (1-\\delta) K_t$\n",
    "* $L_{t+1} = (1+n)L_t$\n",
    "* $L_{Y_t} + L_{A_t} = L_t$\n",
    "* $L_{A_t} = s_R L_t$"
   ]
  },
  {
   "cell_type": "markdown",
   "metadata": {},
   "source": [
    "From equation (2) we introduce the technology growth, $g_t$.\n",
    "\n",
    "$ g_t \\equiv \\frac{A_{t+1}-A_t}{A_t} = \\rho A_t^{\\phi-1} L_{A_t}^\\lambda = \\rho A_t^{\\phi-1} (s_R L_t)^\\lambda$\n",
    "\n",
    "Defining capital and labor per effective capita:\n",
    "\n",
    "$ \\big(\\frac{Y_t}{A_t L_t}\\big) = \\tilde{y}_t $ \n",
    "\n",
    "$ \\big(\\frac{K_t}{A_t L_t}\\big) = \\tilde{k}_t $ \n",
    "\n",
    "Which yields the following output per effective capita function:\n",
    "\n",
    "7. $ \\tilde{y}_t = \\tilde{k}_t^\\alpha (1-s_R)^{1-\\alpha} $\n",
    "\n",
    "The transition equation becomes the following:\n",
    "\n",
    "$ \\tilde{k}_{t+1} = \\frac{1}{(1+n)(1+g_t)} [s\\tilde{k}_t^\\alpha (1-s_R)^{1-\\alpha} + (1-\\delta) \\tilde{k}_t]$\n"
   ]
  },
  {
   "cell_type": "markdown",
   "metadata": {},
   "source": [
    "## Analytical solution"
   ]
  },
  {
   "cell_type": "markdown",
   "metadata": {},
   "source": [
    "The approah to solving this model is exactly the same as the basic solow model above. We start by defining all sm.symbols:"
   ]
  },
  {
   "cell_type": "code",
   "execution_count": 13,
   "metadata": {},
   "outputs": [],
   "source": [
    "A = sm.symbols(\"A_t\")                  # Technology\n",
    "Ly = sm.symbols(\"L_{Y_t}\")             # Labor input, (non-technology)\n",
    "La = sm.symbols(\"L_{A_t}\")             # Labor input, technology\n",
    "sr = sm.symbols(\"s_R\")                 # Labor share in research\n",
    "g = sm.symbols(\"g_t\")                  # Technology growth\n",
    "phi = sm.symbols(\"phi\")                 \n",
    "rho = sm.symbols(\"rho\")                 \n",
    "lambd = sm.symbols(\"lambda\")           \n",
    "ktilde = sm.symbols(\"ktilde_t\")        # Capital per effective capita\n",
    "ytilde = sm.symbols(\"ytilde_t\")        # Output per effective capita\n",
    "ktildestar = sm.symbols(\"ktilde^*\")    # Steady state capital per effective capita\n",
    "ytildestar = sm.symbols(\"ytilde^*\")    # Steady state capital per effective capita"
   ]
  },
  {
   "cell_type": "markdown",
   "metadata": {},
   "source": [
    "Assuming that $\\tilde{k}_{t+1} = \\tilde{k}_t = \\tilde{k}^*$ allows us to set up the steady state equation from the transition equation:"
   ]
  },
  {
   "cell_type": "code",
   "execution_count": 14,
   "metadata": {},
   "outputs": [],
   "source": [
    "steadystatetilde = sm.Eq(ktildestar, (s*ktildestar**alpha*(1-sr)**(1-alpha)+(1-delta)*ktildestar)/((1+n)*(1+g)))"
   ]
  },
  {
   "cell_type": "markdown",
   "metadata": {},
   "source": [
    "Solving for steady state capital per effective capita with sm.solve:"
   ]
  },
  {
   "cell_type": "code",
   "execution_count": 15,
   "metadata": {},
   "outputs": [
    {
     "data": {
      "image/png": "[encoded data removed]",
      "text/latex": [
       "$\\displaystyle \\tilde{k}^{*} = \\left(\\frac{s \\left(1 - s_{R}\\right)^{1 - \\alpha}}{\\delta + g_{t} n + g_{t} + n}\\right)^{- \\frac{1}{\\alpha - 1}}$"
      ],
      "text/plain": [
       "                            -1  \n",
       "                           ─────\n",
       "                           α - 1\n",
       "        ⎛            1 - α⎞     \n",
       "        ⎜ s⋅(1 - s_R)     ⎟     \n",
       "k̃__* = ⎜─────────────────⎟     \n",
       "        ⎝δ + gₜ⋅n + gₜ + n⎠     "
      ]
     },
     "execution_count": 15,
     "metadata": {},
     "output_type": "execute_result"
    }
   ],
   "source": [
    "steadystatetilde_k = sm.solve(steadystatetilde,ktildestar)[0]\n",
    "sm.Eq(ktildestar, steadystatetilde_k)"
   ]
  },
  {
   "cell_type": "markdown",
   "metadata": {},
   "source": [
    "... and for output per effective capita:"
   ]
  },
  {
   "cell_type": "code",
   "execution_count": 16,
   "metadata": {},
   "outputs": [
    {
     "data": {
      "image/png": "[encoded data removed]",
      "text/latex": [
       "$\\displaystyle \\tilde{y}^{*} = \\left(1 - s_{R}\\right)^{1 - \\alpha} \\left(\\left(\\frac{s \\left(1 - s_{R}\\right)^{1 - \\alpha}}{\\delta + g_{t} n + g_{t} + n}\\right)^{- \\frac{1}{\\alpha - 1}}\\right)^{\\alpha}$"
      ],
      "text/plain": [
       "                                                 α\n",
       "                       ⎛                    -1  ⎞ \n",
       "                       ⎜                   ─────⎟ \n",
       "                       ⎜                   α - 1⎟ \n",
       "                       ⎜⎛            1 - α⎞     ⎟ \n",
       "                 1 - α ⎜⎜ s⋅(1 - s_R)     ⎟     ⎟ \n",
       "ỹ__* = (1 - s_R)     ⋅⎜⎜─────────────────⎟     ⎟ \n",
       "                       ⎝⎝δ + gₜ⋅n + gₜ + n⎠     ⎠ "
      ]
     },
     "execution_count": 16,
     "metadata": {},
     "output_type": "execute_result"
    }
   ],
   "source": [
    "steadystatetilde_y = sm.Eq(ytildestar, steadystatetilde_k**alpha*(1-sr)**(1-alpha))\n",
    "steadystatetilde_y"
   ]
  },
  {
   "cell_type": "markdown",
   "metadata": {},
   "source": [
    "## Numerical solution"
   ]
  },
  {
   "cell_type": "code",
   "execution_count": 17,
   "metadata": {},
   "outputs": [
    {
     "name": "stdout",
     "output_type": "stream",
     "text": [
      "Steady state capital per effective capita for given parameter values is: 12.7511\n"
     ]
    }
   ],
   "source": [
    "def bisect_sstilde(a,b, alpha=1/3, s=0.34, sr=0.05 , n=0.01, g=0.02, delta=0.03):\n",
    "    \n",
    "    \"\"\" \n",
    "    Input. Parameters of interest, and the interval [a,b]. This determines the interval on which the function evaluates \n",
    "\n",
    "    Output: Steady state value of capital per capita.  \n",
    "    \n",
    "    \"\"\"\n",
    "    result_tilde = optimize.bisect(lambda ktilde: s*ktilde**alpha*(1-sr)**(1-alpha) - (delta+g+n+n*g)*ktilde, a,b, full_output=False)\n",
    "    return result_tilde\n",
    "\n",
    "print(f'Steady state capital per effective capita for given parameter values is: {bisect_sstilde(1,100):.4f}')"
   ]
  },
  {
   "cell_type": "markdown",
   "metadata": {},
   "source": [
    "We now add the interactive plot, allowing us to change the same paramters as before, but now also the technology growth $g_t$."
   ]
  },
  {
   "cell_type": "markdown",
   "metadata": {},
   "source": [
    "First the plot function:"
   ]
  },
  {
   "cell_type": "code",
   "execution_count": 18,
   "metadata": {},
   "outputs": [],
   "source": [
    "def simulate_solowRD(ktilde,ytilde,alpha,s,sr,n,g,delta,T):\n",
    "    \"\"\"\n",
    "    Input: varibales and paramters of interest\n",
    "    \n",
    "    Output: A compbination of the solow diagram and an output diagram.\n",
    "    \n",
    "    \"\"\"\n",
    "    \n",
    "    # Create lists for k, diagonal line and y\n",
    "    ktilde_list = [ktilde]\n",
    "    diagonaltilde = [0]\n",
    "    ytilde_list = [ytilde]\n",
    "    \n",
    "    # Create the diagonal line\n",
    "    for t in range(1,T):\n",
    "        linetilde = (delta+g+n+n*g)*t\n",
    "        diagonaltilde.append(linetilde)\n",
    "        \n",
    "    # Create the Solow movement\n",
    "    for t in range(1,T):\n",
    "        ktilde_plus = s*t**alpha*(1-sr)**(1-alpha)\n",
    "        ktilde_list.append(ktilde_plus)\n",
    "    \n",
    "    # Create the output graph\n",
    "    for t in range(1,T):\n",
    "        ytilde_plus = t**alpha*(1-sr)**(1-alpha)\n",
    "        ytilde_list.append(ytilde_plus)\n",
    "    \n",
    "    # Plot\n",
    "    plt.figure(figsize=(5,5))\n",
    "    plt.plot(ktilde_list[:T], label='$s \\~{k}_t^{\\u03B1}(1-s_R)^{1-\\u03B1}$', color = 'blue')\n",
    "    plt.plot(diagonaltilde[:T], label = '$(\\delta+g+n+ng) \\~{k}_t$', color = 'black')\n",
    "    plt.plot(ytilde_list[:T], label='$\\~{y}_t$', color = 'red')\n",
    "    plt.xlim(0,T)\n",
    "    plt.ylim(0,6)\n",
    "    plt.xlabel('$\\~{k}_t$')\n",
    "    plt.grid(True)\n",
    "    plt.legend()\n",
    "    \n",
    "    return plt.show()"
   ]
  },
  {
   "cell_type": "markdown",
   "metadata": {},
   "source": [
    "... And the interactive sliders:"
   ]
  },
  {
   "cell_type": "code",
   "execution_count": 19,
   "metadata": {},
   "outputs": [
    {
     "data": {
      "application/vnd.jupyter.widget-view+json": {
       "model_id": "fd8a092e6d6a45fb94ead507bcc3a5f7",
       "version_major": 2,
       "version_minor": 0
      },
      "text/plain": [
       "interactive(children=(FloatSlider(value=0.3333333333333333, description='$α$', max=0.9, step=0.05), FloatSlide…"
      ]
     },
     "metadata": {},
     "output_type": "display_data"
    },
    {
     "data": {
      "text/plain": [
       "<function __main__.simulate_solowRD(ktilde, ytilde, alpha, s, sr, n, g, delta, T)>"
      ]
     },
     "execution_count": 19,
     "metadata": {},
     "output_type": "execute_result"
    }
   ],
   "source": [
    "widgets.interact(simulate_solowRD, \n",
    "                ktilde     = widgets.fixed(0), \n",
    "                ytilde     = widgets.fixed(0),\n",
    "                alpha = widgets.FloatSlider(description = '$\\u03B1$' , min = 0 ,    max = 0.9 , step = 0.05 , value = 1/3),\n",
    "                delta = widgets.FloatSlider(description = '$\\u03B4$' , min = 0 ,    max = 0.1 , step = 0.01 , value = 0.03),\n",
    "                s     = widgets.FloatSlider(description = 's' ,        min = 0.01 , max = 0.8 , step = 0.05 , value = 0.34),\n",
    "                n     = widgets.FloatSlider(description ='$n$',        min = 0.01 , max = 0.1 , step = 0.005, value = 0.01),\n",
    "                g     = widgets.FloatSlider(description ='$g$',        min = 0.01 , max = 0.1 , step = 0.005, value = 0.02),\n",
    "                T     = widgets.IntSlider(description='$T$' ,          min = 1,     max = 250, step = 1,    value = 100),\n",
    "                sr    = widgets.FloatSlider(description ='$s_R$',      min = 0.01 , max = 0.5 , step = 0.01, value = 0.05))"
   ]
  },
  {
   "cell_type": "markdown",
   "metadata": {},
   "source": [
    "# Conclusion"
   ]
  },
  {
   "cell_type": "markdown",
   "metadata": {},
   "source": [
    "We can conclude that we succesfully created an algorithm that solved the basic Solow model for steady state levels of per-capita capital and output. We also succesfully created interactive sliders, allowing the reader to change the paramters of the model as the reader wishes. The model is set up with examples of realistic paramter values, which can then easily be changed after the plot is created. \n",
    "After analyzing the basic solow model, we looked into the extended R&D based growth model, including technology and technology growth. We can conclude that the method of finding steady state levels does not change much, but that the levels themselves in the extended model depend on both technology growth $g$ and also the share of labor used in Research and development $s_R$. "
   ]
  },
  {
   "cell_type": "code",
   "execution_count": null,
   "metadata": {},
   "outputs": [],
   "source": []
  }
 ],
 "metadata": {
  "kernelspec": {
   "display_name": "Python 3",
   "language": "python",
   "name": "python3"
  },
  "language_info": {
   "codemirror_mode": {
    "name": "ipython",
    "version": 3
   },
   "file_extension": ".py",
   "mimetype": "text/x-python",
   "name": "python",
   "nbconvert_exporter": "python",
   "pygments_lexer": "ipython3",
   "version": "3.7.4"
  },
  "toc-autonumbering": true
 },
 "nbformat": 4,
 "nbformat_minor": 4
}
